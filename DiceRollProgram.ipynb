{
  "nbformat": 4,
  "nbformat_minor": 0,
  "metadata": {
    "colab": {
      "provenance": [],
      "authorship_tag": "ABX9TyMRdZG0Nh1RNOWA2ds9sq6I",
      "include_colab_link": true
    },
    "kernelspec": {
      "name": "python3",
      "display_name": "Python 3"
    },
    "language_info": {
      "name": "python"
    }
  },
  "cells": [
    {
      "cell_type": "markdown",
      "metadata": {
        "id": "view-in-github",
        "colab_type": "text"
      },
      "source": [
        "<a href=\"https://colab.research.google.com/github/Shivampanch/DiceRollerAssn/blob/main/DiceRollProgram.ipynb\" target=\"_parent\"><img src=\"https://colab.research.google.com/assets/colab-badge.svg\" alt=\"Open In Colab\"/></a>"
      ]
    },
    {
      "cell_type": "markdown",
      "source": [
        "# Dice Rolling Program\n",
        "This is my Dice Rolling Program."
      ],
      "metadata": {
        "id": "c8JH8owgc7VH"
      }
    },
    {
      "cell_type": "code",
      "source": [
        "from random import randint\n",
        "print('How Many Dice Do You Want To Roll?:')\n",
        "x = int(input())  # Ensure input is converted to an integer\n",
        "for _ in range(x):\n",
        "    die_face = randint(1, 6)\n",
        "    if die_face == 1:\n",
        "        print(\"-------------\")\n",
        "        print(\"|           |\")\n",
        "        print(\"|     x     |\")\n",
        "        print(\"|           |\")\n",
        "        print(\"-------------\")\n",
        "    if die_face == 2:\n",
        "        print(\"-------------\")\n",
        "        print(\"| x         |\")\n",
        "        print(\"|           |\")\n",
        "        print(\"|         x |\")\n",
        "        print(\"-------------\")\n",
        "    if die_face == 3:\n",
        "        print(\"-------------\")\n",
        "        print(\"| x         |\")\n",
        "        print(\"|     x     |\")\n",
        "        print(\"|         x |\")\n",
        "        print(\"-------------\")\n",
        "    if die_face == 4:\n",
        "        print(\"-------------\")\n",
        "        print(\"| x       x |\")\n",
        "        print(\"|           |\")\n",
        "        print(\"| x       x |\")\n",
        "        print(\"-------------\")\n",
        "    if die_face == 5:\n",
        "        print(\"-------------\")\n",
        "        print(\"| x       x |\")\n",
        "        print(\"|     x     |\")\n",
        "        print(\"| x       x |\")\n",
        "        print(\"-------------\")\n",
        "    if die_face == 6:\n",
        "        print(\"--------------\")\n",
        "        print(\"| x        x |\")\n",
        "        print(\"| x        x |\")\n",
        "        print(\"| x        x |\")\n",
        "        print(\"--------------\")"
      ],
      "metadata": {
        "colab": {
          "base_uri": "https://localhost:8080/"
        },
        "id": "hLfpzeRSdjKZ",
        "outputId": "fc64c8dc-0551-465c-86a1-d16826ae825d"
      },
      "execution_count": 2,
      "outputs": [
        {
          "output_type": "stream",
          "name": "stdout",
          "text": [
            "How Many Dice Do You Want To Roll?:\n",
            "2\n",
            "-------------\n",
            "|           |\n",
            "|     x     |\n",
            "|           |\n",
            "-------------\n",
            "-------------\n",
            "| x       x |\n",
            "|     x     |\n",
            "| x       x |\n",
            "-------------\n"
          ]
        }
      ]
    }
  ]
}