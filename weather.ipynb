{
  "nbformat": 4,
  "nbformat_minor": 0,
  "metadata": {
    "colab": {
      "provenance": [],
      "authorship_tag": "ABX9TyN/3FzxFTm6n8fadIbgNlBr",
      "include_colab_link": true
    },
    "kernelspec": {
      "name": "python3",
      "display_name": "Python 3"
    },
    "language_info": {
      "name": "python"
    }
  },
  "cells": [
    {
      "cell_type": "markdown",
      "metadata": {
        "id": "view-in-github",
        "colab_type": "text"
      },
      "source": [
        "<a href=\"https://colab.research.google.com/github/Shivampanch/DiceRollerAssn/blob/main/weather.ipynb\" target=\"_parent\"><img src=\"https://colab.research.google.com/assets/colab-badge.svg\" alt=\"Open In Colab\"/></a>"
      ]
    },
    {
      "cell_type": "code",
      "source": [
        "# Import the requests library to handle API requests\n",
        "import requests\n",
        "\n",
        "# Define the URL for the API request, specifying the latitude and longitude\n",
        "# for the location (Berlin in this case)\n",
        "url = \"https://api.open-meteo.com/v1/forecast?latitude=41.87&longitude=-87.62&current=temperature_2m\"\n",
        "\n",
        "# Send a GET request to the specified URL\n",
        "response = requests.get(url)\n",
        "\n",
        "# Parse the JSON response data\n",
        "data = response.json()\n",
        "# Print the current temperature and its unit\n",
        "# Access the \"temperature_2m\" field from the \"current\" section and\n",
        "# the unit of the \"temperature_2m\" field from the \"current_units\"\n",
        "# section of the JSON response\n",
        "temperature = data[\"current\"][\"temperature_2m\"]\n",
        "unit = data[\"current_units\"][\"temperature_2m\"]\n",
        "print(f'{temperature}{unit}')"
      ],
      "metadata": {
        "colab": {
          "base_uri": "https://localhost:8080/"
        },
        "id": "BqiMlC6vg1fs",
        "outputId": "b4f3548e-dd77-4e61-8bd7-8c1d9a43cea7"
      },
      "execution_count": 1,
      "outputs": [
        {
          "output_type": "stream",
          "name": "stdout",
          "text": [
            "33.8°C\n"
          ]
        }
      ]
    }
  ]
}